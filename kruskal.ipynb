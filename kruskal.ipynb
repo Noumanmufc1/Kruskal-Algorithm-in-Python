{
 "cells": [
  {
   "cell_type": "markdown",
   "metadata": {},
   "source": [
    "# KRUSKAL ALGORITHM #\n",
    "\n",
    "Kruskal's algorithm is a minimum-spanning-tree algorithm which finds an edge of the least possible weight that connects any two trees in the forest.[1] It is a greedy algorithm in graph theory as it finds a minimum spanning tree for a connected weighted graph adding increasing cost arcs at each step. This means it finds a subset of the edges that forms a tree that includes every vertex, where the total weight of all the edges in the tree is minimized. If the graph is not connected, then it finds a minimum spanning forest (a minimum spanning tree for each connected component). This notebook will explain how to create a wieghted graph and apply kruskal algorithm to find the minimum spanning tree.\n",
    "\n",
    "Before moving on, review the <b>Kruskal</b> class in [<b>kruskal.py</b>].\n",
    "\n",
    "Let's begin by importing all the functions from the kruskal.py module and creating our first graph."
   ]
  },
  {
   "cell_type": "code",
   "execution_count": 1,
   "metadata": {},
   "outputs": [],
   "source": [
    "from kruskal import *\n",
    "\n",
    "aGraph = Kruskal()"
   ]
  },
  {
   "cell_type": "markdown",
   "metadata": {},
   "source": [
    "What we have just done is create a simple graph with no vertices and edges. Let's now ask user to enter the no of vertices and edges"
   ]
  },
  {
   "cell_type": "code",
   "execution_count": 2,
   "metadata": {},
   "outputs": [
    {
     "name": "stdout",
     "output_type": "stream",
     "text": [
      "Enter the number of edges: 9\n",
      "Enter the number of vertices: 7\n"
     ]
    }
   ],
   "source": [
    "aGraph.verEdges()"
   ]
  },
  {
   "cell_type": "markdown",
   "metadata": {},
   "source": [
    "Now that we know the number of edges and vertices, let's ask the user for the edges and their corressponding vertices.\n"
   ]
  },
  {
   "cell_type": "code",
   "execution_count": 3,
   "metadata": {
    "scrolled": true
   },
   "outputs": [
    {
     "name": "stdout",
     "output_type": "stream",
     "text": [
      "Enter vertex 1 of edge 1: 1\n",
      "Enter vertex 2 of edge 1: 2\n",
      "Enter the weight between vertex number 1 and vertex number 2: 4\n",
      "Enter vertex 1 of edge 2: 7\n",
      "Enter vertex 2 of edge 2: 2\n",
      "Enter the weight between vertex number 7 and vertex number 2: 2\n",
      "Enter vertex 1 of edge 3: 6\n",
      "Enter vertex 2 of edge 3: 2\n",
      "Enter the weight between vertex number 6 and vertex number 2: 3\n",
      "Enter vertex 1 of edge 4: 6\n",
      "Enter vertex 2 of edge 4: 5\n",
      "Enter the weight between vertex number 6 and vertex number 5: 1\n",
      "Enter vertex 1 of edge 5: 5\n",
      "Enter vertex 2 of edge 5: 3\n",
      "Enter the weight between vertex number 5 and vertex number 3: 20\n",
      "Enter vertex 1 of edge 6: 4\n",
      "Enter vertex 2 of edge 6: 3\n",
      "Enter the weight between vertex number 4 and vertex number 3: 6\n",
      "Enter vertex 1 of edge 7: 1\n",
      "Enter vertex 2 of edge 7: 4\n",
      "Enter the weight between vertex number 1 and vertex number 4: 7\n",
      "Enter vertex 1 of edge 8: 2\n",
      "Enter vertex 2 of edge 8: 5\n",
      "Enter the weight between vertex number 2 and vertex number 5: 2\n",
      "Enter vertex 1 of edge 9: 2\n",
      "Enter vertex 2 of edge 9: 3\n",
      "Enter the weight between vertex number 2 and vertex number 3: 1\n"
     ]
    }
   ],
   "source": [
    "aGraph.takeInput()"
   ]
  },
  {
   "cell_type": "markdown",
   "metadata": {},
   "source": [
    "Now, let's print the edges with their wieghts. \n"
   ]
  },
  {
   "cell_type": "code",
   "execution_count": 4,
   "metadata": {},
   "outputs": [
    {
     "name": "stdout",
     "output_type": "stream",
     "text": [
      "Edge between Vertex 1 and Vertex 2. Weight = 4\n",
      "Edge between Vertex 7 and Vertex 2. Weight = 2\n",
      "Edge between Vertex 6 and Vertex 2. Weight = 3\n",
      "Edge between Vertex 6 and Vertex 5. Weight = 1\n",
      "Edge between Vertex 5 and Vertex 3. Weight = 20\n",
      "Edge between Vertex 4 and Vertex 3. Weight = 6\n",
      "Edge between Vertex 1 and Vertex 4. Weight = 7\n",
      "Edge between Vertex 2 and Vertex 5. Weight = 2\n",
      "Edge between Vertex 2 and Vertex 3. Weight = 1\n"
     ]
    }
   ],
   "source": [
    "aGraph.printAllEdges()"
   ]
  },
  {
   "cell_type": "markdown",
   "metadata": {},
   "source": [
    "Now, we have to sort these edges with respect to their corressponding weights."
   ]
  },
  {
   "cell_type": "code",
   "execution_count": 5,
   "metadata": {},
   "outputs": [],
   "source": [
    "aGraph.sort()"
   ]
  },
  {
   "cell_type": "markdown",
   "metadata": {},
   "source": [
    "Now that the edges are sorted, we will find the minimum spanning tree by using union find and disjoint sets."
   ]
  },
  {
   "cell_type": "code",
   "execution_count": 6,
   "metadata": {},
   "outputs": [],
   "source": [
    "aGraph.createMST()"
   ]
  },
  {
   "cell_type": "markdown",
   "metadata": {},
   "source": [
    "Now, we will just print the minimum-spanning-tree"
   ]
  },
  {
   "cell_type": "code",
   "execution_count": 7,
   "metadata": {},
   "outputs": [
    {
     "name": "stdout",
     "output_type": "stream",
     "text": [
      "Edge between Vertex 2 and Vertex 3. Weight = 1\n",
      "Edge between Vertex 6 and Vertex 5. Weight = 1\n",
      "Edge between Vertex 7 and Vertex 2. Weight = 2\n",
      "Edge between Vertex 2 and Vertex 5. Weight = 2\n",
      "Edge between Vertex 1 and Vertex 2. Weight = 4\n",
      "Edge between Vertex 4 and Vertex 3. Weight = 6\n",
      "The total weight of the minimum spanning tree is 16\n"
     ]
    }
   ],
   "source": [
    "aGraph.printMST()"
   ]
  },
  {
   "cell_type": "code",
   "execution_count": null,
   "metadata": {},
   "outputs": [],
   "source": []
  }
 ],
 "metadata": {
  "kernelspec": {
   "display_name": "Python 3",
   "language": "python",
   "name": "python3"
  },
  "language_info": {
   "codemirror_mode": {
    "name": "ipython",
    "version": 3
   },
   "file_extension": ".py",
   "mimetype": "text/x-python",
   "name": "python",
   "nbconvert_exporter": "python",
   "pygments_lexer": "ipython3",
   "version": "3.6.4"
  },
  "widgets": {
   "state": {},
   "version": "1.1.1"
  }
 },
 "nbformat": 4,
 "nbformat_minor": 1
}
